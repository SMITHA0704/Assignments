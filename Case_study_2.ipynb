{
  "nbformat": 4,
  "nbformat_minor": 0,
  "metadata": {
    "colab": {
      "name": "Case study#2",
      "provenance": []
    },
    "kernelspec": {
      "name": "python3",
      "display_name": "Python 3"
    },
    "language_info": {
      "name": "python"
    }
  },
  "cells": [
    {
      "cell_type": "code",
      "execution_count": 1,
      "metadata": {
        "colab": {
          "base_uri": "https://localhost:8080/"
        },
        "id": "b3EoHqZQyAF_",
        "outputId": "94a84e58-67f0-4e89-904f-c3943566ffb1"
      },
      "outputs": [
        {
          "output_type": "stream",
          "name": "stdout",
          "text": [
            "     gender race/ethnicity parental level of education         lunch  \\\n",
            "0    female        group C            some high school  free/reduced   \n",
            "1    female        group B                 high school  free/reduced   \n",
            "2    female        group B            some high school  free/reduced   \n",
            "3    female        group B                some college      standard   \n",
            "4    female        group C                some college  free/reduced   \n",
            "..      ...            ...                         ...           ...   \n",
            "995    male        group E                some college      standard   \n",
            "996    male        group A                some college      standard   \n",
            "997    male        group D                some college      standard   \n",
            "998    male        group E          associate's degree  free/reduced   \n",
            "999    male        group E           bachelor's degree      standard   \n",
            "\n",
            "    test preparation course  math score  reading score  writing score  \n",
            "0                      none           0             17             10  \n",
            "1                      none           8             24             23  \n",
            "2                      none          18             32             28  \n",
            "3                      none          11             38             32  \n",
            "4                      none          22             39             33  \n",
            "..                      ...         ...            ...            ...  \n",
            "995               completed          99             87             81  \n",
            "996               completed         100             96             86  \n",
            "997               completed         100             97             99  \n",
            "998               completed         100            100             93  \n",
            "999               completed         100            100            100  \n",
            "\n",
            "[1000 rows x 8 columns]\n"
          ]
        }
      ],
      "source": [
        "import pandas as pd\n",
        "df=pd.read_csv('/content/StudentsPerformance.csv')\n",
        "print(df)"
      ]
    },
    {
      "cell_type": "code",
      "source": [
        "#Find out how many males and females participated in the test.\n",
        "c=df.groupby(['gender']).count()\n",
        "print(c)\n",
        "\n"
      ],
      "metadata": {
        "colab": {
          "base_uri": "https://localhost:8080/"
        },
        "id": "6-jIbgy_yWV9",
        "outputId": "ee86d952-a8d8-46b2-c4a7-cba43ac26309"
      },
      "execution_count": 10,
      "outputs": [
        {
          "output_type": "stream",
          "name": "stdout",
          "text": [
            "        race/ethnicity  parental level of education  lunch  \\\n",
            "gender                                                       \n",
            "female             518                          518    518   \n",
            "male               482                          482    482   \n",
            "\n",
            "        test preparation course  math score  reading score  writing score  \n",
            "gender                                                                     \n",
            "female                      518         518            518            518  \n",
            "male                        482         482            482            482  \n"
          ]
        }
      ]
    },
    {
      "cell_type": "code",
      "source": [
        "#Information on parents education\n",
        "c1=df.groupby(['parental level of education']).count()\n",
        "print(c1)\n"
      ],
      "metadata": {
        "colab": {
          "base_uri": "https://localhost:8080/"
        },
        "id": "yNn4uTSN0rHJ",
        "outputId": "ad78a985-7eab-4849-b3a6-752c12d2287e"
      },
      "execution_count": 11,
      "outputs": [
        {
          "output_type": "stream",
          "name": "stdout",
          "text": [
            "                             gender  race/ethnicity  lunch  \\\n",
            "parental level of education                                  \n",
            "associate's degree              222             222    222   \n",
            "bachelor's degree               118             118    118   \n",
            "high school                     196             196    196   \n",
            "master's degree                  59              59     59   \n",
            "some college                    226             226    226   \n",
            "some high school                179             179    179   \n",
            "\n",
            "                             test preparation course  math score  \\\n",
            "parental level of education                                        \n",
            "associate's degree                               222         222   \n",
            "bachelor's degree                                118         118   \n",
            "high school                                      196         196   \n",
            "master's degree                                   59          59   \n",
            "some college                                     226         226   \n",
            "some high school                                 179         179   \n",
            "\n",
            "                             reading score  writing score  \n",
            "parental level of education                                \n",
            "associate's degree                     222            222  \n",
            "bachelor's degree                      118            118  \n",
            "high school                            196            196  \n",
            "master's degree                         59             59  \n",
            "some college                           226            226  \n",
            "some high school                       179            179  \n"
          ]
        }
      ]
    },
    {
      "cell_type": "code",
      "source": [
        "d1=df.groupby(['test preparation course'])[['math score','reading score','writing score']].mean()\n",
        "print(d1)\n"
      ],
      "metadata": {
        "colab": {
          "base_uri": "https://localhost:8080/"
        },
        "id": "Z9vGYTR8048H",
        "outputId": "178caa37-eb40-4462-a875-602591aea265"
      },
      "execution_count": 33,
      "outputs": [
        {
          "output_type": "stream",
          "name": "stdout",
          "text": [
            "                         math score  reading score  writing score\n",
            "test preparation course                                          \n",
            "completed                  69.96648      74.175978      74.684358\n",
            "none                       63.78972      66.417445      64.457944\n"
          ]
        }
      ]
    },
    {
      "cell_type": "code",
      "source": [
        "d2=df.groupby(['gender'])[['math score','reading score','writing score']].mean()\n",
        "print(d2)\n"
      ],
      "metadata": {
        "colab": {
          "base_uri": "https://localhost:8080/"
        },
        "id": "dctvLa-v1zoP",
        "outputId": "38df4b04-f240-4236-ba08-dfe1098b4606"
      },
      "execution_count": 32,
      "outputs": [
        {
          "output_type": "stream",
          "name": "stdout",
          "text": [
            "        math score  reading score  writing score\n",
            "gender                                          \n",
            "female   63.376448      72.590734      72.467181\n",
            "male     68.821577      65.545643      63.446058\n"
          ]
        }
      ]
    },
    {
      "cell_type": "code",
      "source": [
        "d3=df.groupby(['gender'])[['math score','reading score','writing score']].var()\n",
        "print(d3)\n"
      ],
      "metadata": {
        "colab": {
          "base_uri": "https://localhost:8080/"
        },
        "id": "42aAzjNe2Nhb",
        "outputId": "0151b130-123f-44a6-c8bf-343ca6f59d49"
      },
      "execution_count": 30,
      "outputs": [
        {
          "output_type": "stream",
          "name": "stdout",
          "text": [
            "        math score  reading score  writing score\n",
            "gender                                          \n",
            "female  256.958593     207.677438     220.369327\n",
            "male    211.889097     200.211010     202.413924\n"
          ]
        }
      ]
    },
    {
      "cell_type": "code",
      "source": [
        "d4=df.groupby(['test preparation course'])[['math score','reading score','writing score']].var()\n",
        "print(d4)\n"
      ],
      "metadata": {
        "colab": {
          "base_uri": "https://localhost:8080/"
        },
        "id": "EdtBxm4d2crJ",
        "outputId": "e3a657ca-830b-49ef-a677-861f875c48a5"
      },
      "execution_count": 31,
      "outputs": [
        {
          "output_type": "stream",
          "name": "stdout",
          "text": [
            "                         math score  reading score  writing score\n",
            "test preparation course                                          \n",
            "completed                210.884027     183.265864     175.202612\n",
            "none                     246.668662     213.419851     226.251739\n"
          ]
        }
      ]
    },
    {
      "cell_type": "code",
      "source": [
        "df3=df.sort_values(by=['math score'],ascending=False)\n",
        "print(df3)\n"
      ],
      "metadata": {
        "colab": {
          "base_uri": "https://localhost:8080/"
        },
        "id": "yYXAsrsk2rBn",
        "outputId": "22660e82-8ac8-48b6-b441-39475e5ab906"
      },
      "execution_count": 19,
      "outputs": [
        {
          "output_type": "stream",
          "name": "stdout",
          "text": [
            "     gender race/ethnicity parental level of education         lunch  \\\n",
            "999    male        group E           bachelor's degree      standard   \n",
            "996    male        group A                some college      standard   \n",
            "515  female        group E                some college      standard   \n",
            "517  female        group E          associate's degree      standard   \n",
            "516  female        group E           bachelor's degree      standard   \n",
            "..      ...            ...                         ...           ...   \n",
            "2    female        group B            some high school  free/reduced   \n",
            "51   female        group C            some high school  free/reduced   \n",
            "3    female        group B                some college      standard   \n",
            "1    female        group B                 high school  free/reduced   \n",
            "0    female        group C            some high school  free/reduced   \n",
            "\n",
            "    test preparation course  math score  reading score  writing score  \n",
            "999               completed         100            100            100  \n",
            "996               completed         100             96             86  \n",
            "515                    none         100             92             97  \n",
            "517                    none         100            100            100  \n",
            "516                    none         100            100            100  \n",
            "..                      ...         ...            ...            ...  \n",
            "2                      none          18             32             28  \n",
            "51                     none          13             41             51  \n",
            "3                      none          11             38             32  \n",
            "1                      none           8             24             23  \n",
            "0                      none           0             17             10  \n",
            "\n",
            "[1000 rows x 8 columns]\n"
          ]
        }
      ]
    },
    {
      "cell_type": "code",
      "source": [
        "n=0.25*1000\n",
        "print('No.of students to be given bonus',n)\n",
        "df4=df3.head(int(n))\n",
        "print('Details of students to be given bonus=')\n",
        "print(df4)"
      ],
      "metadata": {
        "colab": {
          "base_uri": "https://localhost:8080/"
        },
        "id": "jOHanUci3LrI",
        "outputId": "4ffc6b3b-1767-49de-8484-d4be53d2f01f"
      },
      "execution_count": 24,
      "outputs": [
        {
          "output_type": "stream",
          "name": "stdout",
          "text": [
            "No.of students to be given bonus 250.0\n",
            "Details of students to be given bonus=\n",
            "     gender race/ethnicity parental level of education         lunch  \\\n",
            "999    male        group E           bachelor's degree      standard   \n",
            "996    male        group A                some college      standard   \n",
            "515  female        group E                some college      standard   \n",
            "517  female        group E          associate's degree      standard   \n",
            "516  female        group E           bachelor's degree      standard   \n",
            "..      ...            ...                         ...           ...   \n",
            "856    male        group E            some high school      standard   \n",
            "855    male        group E          associate's degree  free/reduced   \n",
            "854    male        group D            some high school      standard   \n",
            "853    male        group D          associate's degree  free/reduced   \n",
            "852    male        group D                some college  free/reduced   \n",
            "\n",
            "    test preparation course  math score  reading score  writing score  \n",
            "999               completed         100            100            100  \n",
            "996               completed         100             96             86  \n",
            "515                    none         100             92             97  \n",
            "517                    none         100            100            100  \n",
            "516                    none         100            100            100  \n",
            "..                      ...         ...            ...            ...  \n",
            "856               completed          77             76             77  \n",
            "855               completed          77             69             68  \n",
            "854               completed          77             68             69  \n",
            "853                    none          77             78             73  \n",
            "852                    none          77             62             64  \n",
            "\n",
            "[250 rows x 8 columns]\n"
          ]
        }
      ]
    }
  ]
}